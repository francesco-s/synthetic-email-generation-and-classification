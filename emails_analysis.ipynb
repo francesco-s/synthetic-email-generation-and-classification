{
 "cells": [
  {
   "cell_type": "code",
   "execution_count": 2,
   "id": "f5aafd39-ed77-4695-b37b-94fa2840d93c",
   "metadata": {},
   "outputs": [
    {
     "name": "stderr",
     "output_type": "stream",
     "text": [
      "[nltk_data] Downloading package stopwords to\n",
      "[nltk_data]     C:\\Users\\SANNICOLAF\\AppData\\Roaming\\nltk_data...\n",
      "[nltk_data]   Package stopwords is already up-to-date!\n",
      "[nltk_data] Downloading package punkt_tab to\n",
      "[nltk_data]     C:\\Users\\SANNICOLAF\\AppData\\Roaming\\nltk_data...\n",
      "[nltk_data]   Package punkt_tab is already up-to-date!\n",
      "[nltk_data] Downloading package punkt to\n",
      "[nltk_data]     C:\\Users\\SANNICOLAF\\AppData\\Roaming\\nltk_data...\n",
      "[nltk_data]   Package punkt is already up-to-date!\n",
      "[nltk_data] Downloading package wordnet to\n",
      "[nltk_data]     C:\\Users\\SANNICOLAF\\AppData\\Roaming\\nltk_data...\n",
      "[nltk_data]   Package wordnet is already up-to-date!\n",
      "[nltk_data] Downloading package averaged_perceptron_tagger to\n",
      "[nltk_data]     C:\\Users\\SANNICOLAF\\AppData\\Roaming\\nltk_data...\n",
      "[nltk_data]   Package averaged_perceptron_tagger is already up-to-\n",
      "[nltk_data]       date!\n"
     ]
    }
   ],
   "source": [
    "import pandas as pd\n",
    "from classifier.data_processing import load_data"
   ]
  },
  {
   "cell_type": "code",
   "execution_count": 3,
   "id": "bbdf362e-a2d5-46c4-8c94-771adf7822bc",
   "metadata": {},
   "outputs": [],
   "source": [
    "file_paths = [\n",
    "    \"./data/synthetic_emails_1.csv\",\n",
    "    \"./data/synthetic_emails_2.csv\",\n",
    "    \"./data/synthetic_emails_3.csv\",\n",
    "    \"./data/synthetic_emails_4.csv\",\n",
    "]"
   ]
  },
  {
   "cell_type": "code",
   "execution_count": 8,
   "id": "357a4657-045a-4104-82b3-f7d3c8752833",
   "metadata": {},
   "outputs": [],
   "source": [
    "emails = load_data(file_paths)"
   ]
  },
  {
   "cell_type": "code",
   "execution_count": 9,
   "id": "6dfacf21-af9e-4c44-9813-db56ba857b6a",
   "metadata": {},
   "outputs": [
    {
     "data": {
      "text/html": [
       "<div>\n",
       "<style scoped>\n",
       "    .dataframe tbody tr th:only-of-type {\n",
       "        vertical-align: middle;\n",
       "    }\n",
       "\n",
       "    .dataframe tbody tr th {\n",
       "        vertical-align: top;\n",
       "    }\n",
       "\n",
       "    .dataframe thead th {\n",
       "        text-align: right;\n",
       "    }\n",
       "</style>\n",
       "<table border=\"1\" class=\"dataframe\">\n",
       "  <thead>\n",
       "    <tr style=\"text-align: right;\">\n",
       "      <th></th>\n",
       "      <th>email</th>\n",
       "      <th>label</th>\n",
       "    </tr>\n",
       "  </thead>\n",
       "  <tbody>\n",
       "    <tr>\n",
       "      <th>0</th>\n",
       "      <td>Subject: Team Lunch Next Week\\n\\nHi Team,\\n\\nI...</td>\n",
       "      <td>Work</td>\n",
       "    </tr>\n",
       "    <tr>\n",
       "      <th>1</th>\n",
       "      <td>Subject: New Project Kickoff Meeting\\n\\nDear T...</td>\n",
       "      <td>Work</td>\n",
       "    </tr>\n",
       "    <tr>\n",
       "      <th>2</th>\n",
       "      <td>Subject: Summer BBQ Party!\\n\\nHi Everyone,\\n\\n...</td>\n",
       "      <td>Social</td>\n",
       "    </tr>\n",
       "    <tr>\n",
       "      <th>3</th>\n",
       "      <td>Subject: Happy Hour This Friday!\\n\\nHey Everyo...</td>\n",
       "      <td>Social</td>\n",
       "    </tr>\n",
       "    <tr>\n",
       "      <th>4</th>\n",
       "      <td>Subject: Meeting Rescheduled - 1 PM Tomorrow\\n...</td>\n",
       "      <td>Work</td>\n",
       "    </tr>\n",
       "  </tbody>\n",
       "</table>\n",
       "</div>"
      ],
      "text/plain": [
       "                                               email   label\n",
       "0  Subject: Team Lunch Next Week\\n\\nHi Team,\\n\\nI...    Work\n",
       "1  Subject: New Project Kickoff Meeting\\n\\nDear T...    Work\n",
       "2  Subject: Summer BBQ Party!\\n\\nHi Everyone,\\n\\n...  Social\n",
       "3  Subject: Happy Hour This Friday!\\n\\nHey Everyo...  Social\n",
       "4  Subject: Meeting Rescheduled - 1 PM Tomorrow\\n...    Work"
      ]
     },
     "execution_count": 9,
     "metadata": {},
     "output_type": "execute_result"
    }
   ],
   "source": [
    "emails.head()"
   ]
  },
  {
   "cell_type": "code",
   "execution_count": 37,
   "id": "bee3fae1-30de-4ccc-a02e-9be6aa313cba",
   "metadata": {},
   "outputs": [
    {
     "data": {
      "text/plain": [
       "(172, 420, 269.484)"
      ]
     },
     "execution_count": 37,
     "metadata": {},
     "output_type": "execute_result"
    }
   ],
   "source": [
    "emails['email'].str.len().min(), emails['email'].str.len().max(), emails['email'].str.len().mean()"
   ]
  },
  {
   "cell_type": "code",
   "execution_count": 27,
   "id": "9b164c7e-679b-49fb-9e01-a15393fec6a5",
   "metadata": {},
   "outputs": [
    {
     "data": {
      "text/plain": [
       "34.81732313073469"
      ]
     },
     "execution_count": 27,
     "metadata": {},
     "output_type": "execute_result"
    }
   ],
   "source": [
    "emails['email'].str.len().std()"
   ]
  },
  {
   "cell_type": "code",
   "execution_count": 35,
   "id": "3df26e74-57e4-450c-a97d-89d270fc7e4a",
   "metadata": {},
   "outputs": [
    {
     "data": {
      "text/plain": [
       "<Axes: >"
      ]
     },
     "execution_count": 35,
     "metadata": {},
     "output_type": "execute_result"
    },
    {
     "data": {
      "image/png": "[encoded data removed]",
      "text/plain": [
       "<Figure size 640x480 with 1 Axes>"
      ]
     },
     "metadata": {},
     "output_type": "display_data"
    }
   ],
   "source": [
    "emails['email'].str.len().hist(bins=30)"
   ]
  },
  {
   "cell_type": "code",
   "execution_count": 32,
   "id": "07eead0f-c67a-440a-a5a8-45fe5960074e",
   "metadata": {},
   "outputs": [
    {
     "data": {
      "text/plain": [
       "label\n",
       "Spam         349\n",
       "Work         276\n",
       "Promotion    224\n",
       "Social       151\n",
       "Name: count, dtype: int64"
      ]
     },
     "execution_count": 32,
     "metadata": {},
     "output_type": "execute_result"
    }
   ],
   "source": [
    "emails['label'].value_counts()"
   ]
  },
  {
   "cell_type": "code",
   "execution_count": 33,
   "id": "e96af388-2fbf-4eab-9a30-90379a641d85",
   "metadata": {},
   "outputs": [
    {
     "data": {
      "text/plain": [
       "<Axes: xlabel='label'>"
      ]
     },
     "execution_count": 33,
     "metadata": {},
     "output_type": "execute_result"
    },
    {
     "data": {
      "image/png": "[encoded data removed]",
      "text/plain": [
       "<Figure size 640x480 with 1 Axes>"
      ]
     },
     "metadata": {},
     "output_type": "display_data"
    }
   ],
   "source": [
    "emails['label'].value_counts().plot.bar()"
   ]
  }
 ],
 "metadata": {
  "kernelspec": {
   "display_name": "Python 3 (ipykernel)",
   "language": "python",
   "name": "python3"
  },
  "language_info": {
   "codemirror_mode": {
    "name": "ipython",
    "version": 3
   },
   "file_extension": ".py",
   "mimetype": "text/x-python",
   "name": "python",
   "nbconvert_exporter": "python",
   "pygments_lexer": "ipython3",
   "version": "3.10.14"
  }
 },
 "nbformat": 4,
 "nbformat_minor": 5
}
